{
 "cells": [
  {
   "cell_type": "markdown",
   "metadata": {
    "nbgrader": {
     "grade": false,
     "grade_id": "q1_prompt",
     "locked": true,
     "schema_version": 1,
     "solution": false
    }
   },
   "source": [
    "# Question 1\n",
    "\n",
    "In this question, you'll implement main methods that are crucial for linear algebra: vector and matrix multiplication."
   ]
  },
  {
   "cell_type": "markdown",
   "metadata": {
    "nbgrader": {
     "grade": false,
     "grade_id": "q1a_prompt",
     "locked": true,
     "schema_version": 1,
     "solution": false
    }
   },
   "source": [
    "### Part A\n",
    "\n",
    "Write a function which:\n",
    "\n",
    " - is named `mv_multiply`\n",
    " - takes 2 arguments: a 2D NumPy matrix as the first argument, and a 1D NumPy vector as the second\n",
    " - returns 1 value: a NumPy array containing the product of the multiplication\n",
    "\n",
    "This function will specifically perform the operation $\\vec{y} = A * \\vec{x}$, where $A$ and $\\vec{x}$ are the function arguments. Remember how to perform this multiplication:\n",
    "\n",
    " - First, you need to check that the number of columns of $A$ is the same as the length of $\\vec{x}$. If not, you should print an error message and return `None`.\n",
    "\n",
    " - Second, you'll compute the dot product of each row of $A$ with the entire vector $\\vec{x}$. This can be done using the `numpy.dot` function.\n",
    " \n",
    " - Third, the result of the dot product from the $i^{th}$ row of $A$ will go in the $i^{th}$ element of the solution vector, $\\vec{y}$. Therefore, $\\vec{y}$ will have the same number of elements as rows of $A$.\n",
    " \n",
    "You can use `numpy.array` and `numpy.dot` functions, and `range()`, but no other functions."
   ]
  },
  {
   "cell_type": "code",
   "execution_count": 164,
   "metadata": {},
   "outputs": [
    {
     "name": "stdout",
     "output_type": "stream",
     "text": [
      "[115.50383039 114.74319932 105.94565021 120.05095812 116.03441943\n",
      " 109.73774516 120.80924661 115.40080664 116.32963147 116.29268604\n",
      " 120.28792284 109.96850668 116.69992163 112.86025343 116.38603903\n",
      " 120.39703961 111.90768199 115.28219826 111.6247864  115.02029284\n",
      " 119.26913941 116.80706633 105.31950045 112.71144616 106.05857294\n",
      " 121.00307981 107.2963199  119.86776421 114.41841322 114.21840335\n",
      " 113.24220895 112.00712906 118.42613824 111.77777493 115.02858211\n",
      " 112.33996932 116.08172535 119.06890276 115.54403025 117.81670939\n",
      " 117.75743373 122.00732551 115.90864957 117.03753182 118.2288325\n",
      " 117.32410812 111.59238121 110.248933   120.93085888 124.11588849\n",
      " 114.49669748 115.6841097  115.96309279 116.28713106 112.95636589\n",
      " 117.82617039 123.48871938 117.00562393 113.96675249 118.15003969\n",
      " 117.38858459 121.1436895  119.37133784 121.10146576 115.53736215\n",
      " 122.92709991 114.85982584 115.41992899 115.0358582  114.69001133\n",
      " 117.63961379 118.30062946 113.74118442 117.90495019 113.22134975\n",
      " 117.36398431 118.5653578  118.04683192 124.71424243 120.03163614\n",
      " 115.24192513 116.37850292 120.59507194 120.2461521  120.55025795\n",
      " 116.33113993 117.09921525 107.22554803 118.16275515 112.33230968\n",
      " 113.46556437 119.61866119]\n"
     ]
    }
   ],
   "source": [
    "import numpy as np\n",
    "def mv_multiply(arr2,arr1):\n",
    "    if (arr2.shape[1]!= arr1.shape[0]):   #checking if num cols in arr2 == length of arr1\n",
    "        print(\"cannot be multiplied\")\n",
    "        return None\n",
    "    product=list()                     #variable to store dot product\n",
    "    for i in range(arr2.shape[0]):\n",
    "        product.append(np.dot(arr2[i],arr1))   #adding dot to product\n",
    "    result=np.array(product)           #casting product as np.array\n",
    "    return result\n",
    "\n",
    "print(mv_multiply(A,v))"
   ]
  },
  {
   "cell_type": "code",
   "execution_count": 165,
   "metadata": {
    "nbgrader": {
     "grade": true,
     "grade_id": "q1a_test1",
     "locked": true,
     "points": 10,
     "schema_version": 1,
     "solution": false
    }
   },
   "outputs": [],
   "source": [
    "import numpy as np\n",
    "np.random.seed(487543)\n",
    "\n",
    "A = np.random.random((92, 458))\n",
    "v = np.random.random(458)\n",
    "np.testing.assert_allclose(mv_multiply(A, v), np.dot(A, v))"
   ]
  },
  {
   "cell_type": "code",
   "execution_count": 166,
   "metadata": {
    "nbgrader": {
     "grade": true,
     "grade_id": "q1a_test2",
     "locked": true,
     "points": 10,
     "schema_version": 1,
     "solution": false
    }
   },
   "outputs": [
    {
     "name": "stdout",
     "output_type": "stream",
     "text": [
      "cannot be multiplied\n"
     ]
    }
   ],
   "source": [
    "import numpy as np\n",
    "np.random.seed(49589)\n",
    "\n",
    "A = np.random.random((83, 75))\n",
    "v = np.random.random(83)\n",
    "assert mv_multiply(A, v) is None"
   ]
  },
  {
   "cell_type": "markdown",
   "metadata": {
    "nbgrader": {
     "grade": false,
     "grade_id": "q1b_prompt",
     "locked": true,
     "schema_version": 1,
     "solution": false
    }
   },
   "source": [
    "### Part B\n",
    "\n",
    "Write a function which:\n",
    "\n",
    " - is named `mm_multiply`\n",
    " - takes two 2D NumPy matrices as arguments\n",
    " - returns 1 2D NumPy array: the product of the two input matrices\n",
    "\n",
    "This function will perform the operation $Z = X \\times Y$, where $X$ and $Y$ are the function arguments. Remember how to perform matrix-matrix multiplication:\n",
    "\n",
    " - First, you need to make sure the matrix dimensions line up. For computing $X \\times Y$, this means the number of *columns* of $X$ (first matrix) should match the number of *rows* of $Y$ (second matrix). These are referred to as the \"inner dimensions\"--matrix dimensions are usually cited as \"rows by columns\", so the second dimension of the first operand $X$ is on the \"inside\" of the operation; same with the first dimension of the second operand, $Y$. If the operation were instead $Y \\times X$, you would need to make sure that the number of *columns* of $Y$ matches the number of *rows* of $X$. If these numbers don't match, you should return `None`.\n",
    " \n",
    " - Second, you'll need to create your output matrix, $Z$. The dimensions of this matrix will be the \"outer dimensions\" of the two operands: if we're computing $X \\times Y$, then $Z$'s dimensions will have the same number of *rows* as $X$ (the first matrix), and the same number of *columns* as $Y$ (the second matrix).\n",
    " \n",
    " - Third, you'll need to compute pairwise dot products. If the operation is $X \\times Y$, then these dot products will be between the $i^{th}$ *row* of $X$ with the $j^{th}$ *column* of $Y$. This resulting dot product will then go in `Z[i][j]`. So first, you'll find the dot product of row 0 of $X$ with column 0 of $Y$, and put that in `Z[0][0]`. Then you'll find the dot product of row 0 of $X$ with column 1 of $Y$, and put that in `Z[0][1]`. And so on, until all rows and columns of $X$ and $Y$ have been dot-product-ed with each other.\n",
    " \n",
    "You can use `numpy.array`, but no functions associated with computing matrix products (and definitely not the `@` operator).\n",
    "\n",
    "You **CAN** use `numpy.dot`, but **ONLY to multiply vectors**, since it can also be used to multiply full matrices."
   ]
  },
  {
   "cell_type": "code",
   "execution_count": 177,
   "metadata": {
    "nbgrader": {
     "grade": false,
     "grade_id": "q1b",
     "locked": false,
     "schema_version": 1,
     "solution": true
    }
   },
   "outputs": [
    {
     "name": "stdout",
     "output_type": "stream",
     "text": [
      "[[179.10134479 174.05070476 169.72801153 ... 168.55596294 176.58349186\n",
      "  175.52715087]\n",
      " [177.06224804 167.76600929 170.77205655 ... 165.55345027 170.74155244\n",
      "  176.74435923]\n",
      " [173.63495202 164.22431099 169.33774881 ... 163.49595049 170.04659622\n",
      "  167.46571756]\n",
      " ...\n",
      " [175.24774743 166.23691355 172.52102808 ... 167.09057486 171.66342843\n",
      "  173.34177498]\n",
      " [172.56831325 169.64390072 167.05754377 ... 168.25952363 167.02823187\n",
      "  174.12395734]\n",
      " [178.04781703 166.45836434 170.90741858 ... 164.04797073 166.7596329\n",
      "  177.46188821]]\n"
     ]
    }
   ],
   "source": [
    "import numpy as np\n",
    "def mm_multiply(arr1,arr2):\n",
    "    if arr1.shape[1]!= arr2.shape[0]:       #making sure inner dimensions match\n",
    "        print(\"cannot be multiplied\")\n",
    "        return None\n",
    "    product=list()                          #initializing variable to store product\n",
    "    for i in range(arr1.shape[0]):          #loop to axes of matrices\n",
    "        result=list()\n",
    "        for j in range(arr2.shape[1]):\n",
    "            result.append(np.dot(arr1[i,:],arr2[:,j])) #using np.dot for vector multiplication & adding to result\n",
    "        product.append(result)              #appending result to final matrix multiplication product\n",
    "    product=np.array(product)               #casting as np.array\n",
    "    return product\n",
    "\n",
    "print(mm_multiply(A,B))                     #testing"
   ]
  },
  {
   "cell_type": "code",
   "execution_count": 178,
   "metadata": {
    "nbgrader": {
     "grade": true,
     "grade_id": "q1b_test1",
     "locked": true,
     "points": 10,
     "schema_version": 1,
     "solution": false
    }
   },
   "outputs": [],
   "source": [
    "import numpy as np\n",
    "np.random.seed(489547)\n",
    "\n",
    "A = np.random.random((48, 683))\n",
    "B = np.random.random((683, 58))\n",
    "np.testing.assert_allclose(mm_multiply(A, B), A @ B)"
   ]
  },
  {
   "cell_type": "code",
   "execution_count": 179,
   "metadata": {
    "nbgrader": {
     "grade": true,
     "grade_id": "q1b_test2",
     "locked": true,
     "points": 10,
     "schema_version": 1,
     "solution": false
    }
   },
   "outputs": [],
   "source": [
    "np.random.seed(466525)\n",
    "\n",
    "A = np.random.random((58, 683))\n",
    "B = np.random.random((683, 58))\n",
    "np.testing.assert_allclose(mm_multiply(B, A), B @ A)"
   ]
  },
  {
   "cell_type": "code",
   "execution_count": 180,
   "metadata": {
    "nbgrader": {
     "grade": true,
     "grade_id": "q1b_test3",
     "locked": true,
     "points": 10,
     "schema_version": 1,
     "solution": false
    }
   },
   "outputs": [
    {
     "name": "stdout",
     "output_type": "stream",
     "text": [
      "cannot be multiplied\n"
     ]
    }
   ],
   "source": [
    "A = np.random.random((359, 45))\n",
    "B = np.random.random((83, 495))\n",
    "assert mm_multiply(A, B) is None"
   ]
  },
  {
   "cell_type": "code",
   "execution_count": null,
   "metadata": {},
   "outputs": [],
   "source": []
  },
  {
   "cell_type": "code",
   "execution_count": null,
   "metadata": {},
   "outputs": [],
   "source": []
  }
 ],
 "metadata": {
  "anaconda-cloud": {},
  "celltoolbar": "Create Assignment",
  "kernelspec": {
   "display_name": "Python 3 (ipykernel)",
   "language": "python",
   "name": "python3"
  },
  "language_info": {
   "codemirror_mode": {
    "name": "ipython",
    "version": 3
   },
   "file_extension": ".py",
   "mimetype": "text/x-python",
   "name": "python",
   "nbconvert_exporter": "python",
   "pygments_lexer": "ipython3",
   "version": "3.9.7"
  }
 },
 "nbformat": 4,
 "nbformat_minor": 1
}
